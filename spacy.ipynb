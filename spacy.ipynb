{
  "nbformat": 4,
  "nbformat_minor": 0,
  "metadata": {
    "colab": {
      "provenance": [],
      "authorship_tag": "ABX9TyMcsR5yC1gG6goc48zoyOyQ",
      "include_colab_link": true
    },
    "kernelspec": {
      "name": "python3",
      "display_name": "Python 3"
    },
    "language_info": {
      "name": "python"
    }
  },
  "cells": [
    {
      "cell_type": "markdown",
      "metadata": {
        "id": "view-in-github",
        "colab_type": "text"
      },
      "source": [
        "<a href=\"https://colab.research.google.com/github/atharvadesai1/NLP-practice/blob/main/spacy.ipynb\" target=\"_parent\"><img src=\"https://colab.research.google.com/assets/colab-badge.svg\" alt=\"Open In Colab\"/></a>"
      ]
    },
    {
      "cell_type": "code",
      "execution_count": 1,
      "metadata": {
        "id": "Qge03l9ev6Br"
      },
      "outputs": [],
      "source": [
        "import spacy"
      ]
    },
    {
      "cell_type": "code",
      "source": [
        "nlp  = spacy.blank('en')\n",
        "doc = nlp('Dr. STRANGE is such a brillant fighter. He needs to be in Avenger. People will seriously love it! He buys an orange of 4$ from the market')\n",
        "for word in doc:\n",
        "  print(word)"
      ],
      "metadata": {
        "colab": {
          "base_uri": "https://localhost:8080/",
          "height": 0
        },
        "id": "ck6vaO-UxBbu",
        "outputId": "a565c6d9-0e9a-4487-9443-152ac3813cbc"
      },
      "execution_count": 32,
      "outputs": [
        {
          "output_type": "stream",
          "name": "stdout",
          "text": [
            "Dr.\n",
            "STRANGE\n",
            "is\n",
            "such\n",
            "a\n",
            "brillant\n",
            "fighter\n",
            ".\n",
            "He\n",
            "needs\n",
            "to\n",
            "be\n",
            "in\n",
            "Avenger\n",
            ".\n",
            "People\n",
            "will\n",
            "seriously\n",
            "love\n",
            "it\n",
            "!\n",
            "He\n",
            "buys\n",
            "an\n",
            "orange\n",
            "of\n",
            "4\n",
            "$\n",
            "from\n",
            "the\n",
            "market\n"
          ]
        }
      ]
    },
    {
      "cell_type": "code",
      "source": [
        "doc[0]"
      ],
      "metadata": {
        "colab": {
          "base_uri": "https://localhost:8080/",
          "height": 0
        },
        "id": "sFA1qYvYxZPW",
        "outputId": "47ac60ba-3b98-4f2f-8d51-870a181804bf"
      },
      "execution_count": 14,
      "outputs": [
        {
          "output_type": "execute_result",
          "data": {
            "text/plain": [
              "Dr."
            ]
          },
          "metadata": {},
          "execution_count": 14
        }
      ]
    },
    {
      "cell_type": "code",
      "source": [
        "type(doc)"
      ],
      "metadata": {
        "colab": {
          "base_uri": "https://localhost:8080/",
          "height": 0
        },
        "id": "MxEqh1PGxpQs",
        "outputId": "5ea64bd0-6255-4c29-be1a-25e52386900f"
      },
      "execution_count": 15,
      "outputs": [
        {
          "output_type": "execute_result",
          "data": {
            "text/plain": [
              "spacy.tokens.doc.Doc"
            ]
          },
          "metadata": {},
          "execution_count": 15
        }
      ]
    },
    {
      "cell_type": "code",
      "source": [
        "money = doc[-4]\n",
        "money"
      ],
      "metadata": {
        "colab": {
          "base_uri": "https://localhost:8080/",
          "height": 0
        },
        "id": "g8MVnOEixr1k",
        "outputId": "25f55394-5a3e-42a6-f50a-e4ed0f374fc3"
      },
      "execution_count": 16,
      "outputs": [
        {
          "output_type": "execute_result",
          "data": {
            "text/plain": [
              "$"
            ]
          },
          "metadata": {},
          "execution_count": 16
        }
      ]
    },
    {
      "cell_type": "code",
      "source": [
        "money.is_currency"
      ],
      "metadata": {
        "colab": {
          "base_uri": "https://localhost:8080/",
          "height": 0
        },
        "id": "PcMGYPTGx_QJ",
        "outputId": "bc051389-d969-48df-80af-9ec88eaa397c"
      },
      "execution_count": 24,
      "outputs": [
        {
          "output_type": "execute_result",
          "data": {
            "text/plain": [
              "True"
            ]
          },
          "metadata": {},
          "execution_count": 24
        }
      ]
    },
    {
      "cell_type": "code",
      "source": [
        "excl = doc[-11]\n",
        "excl"
      ],
      "metadata": {
        "colab": {
          "base_uri": "https://localhost:8080/",
          "height": 0
        },
        "id": "4DOHmjKjyRy9",
        "outputId": "1f72ad39-bf2a-44f9-90b0-1ff682978ac8"
      },
      "execution_count": 21,
      "outputs": [
        {
          "output_type": "execute_result",
          "data": {
            "text/plain": [
              "!"
            ]
          },
          "metadata": {},
          "execution_count": 21
        }
      ]
    },
    {
      "cell_type": "code",
      "source": [
        "excl.is_punct"
      ],
      "metadata": {
        "colab": {
          "base_uri": "https://localhost:8080/",
          "height": 0
        },
        "id": "T2fGVsDSzXoN",
        "outputId": "c2024076-7e82-4327-d5bc-9e0f671847fb"
      },
      "execution_count": 25,
      "outputs": [
        {
          "output_type": "execute_result",
          "data": {
            "text/plain": [
              "True"
            ]
          },
          "metadata": {},
          "execution_count": 25
        }
      ]
    },
    {
      "cell_type": "code",
      "source": [
        "excl.is_left_punct"
      ],
      "metadata": {
        "colab": {
          "base_uri": "https://localhost:8080/",
          "height": 0
        },
        "id": "2PoOEVWA0AeK",
        "outputId": "c6fc0e12-04c5-44d0-c044-0c14b8f1d6c5"
      },
      "execution_count": 27,
      "outputs": [
        {
          "output_type": "execute_result",
          "data": {
            "text/plain": [
              "False"
            ]
          },
          "metadata": {},
          "execution_count": 27
        }
      ]
    },
    {
      "cell_type": "code",
      "source": [
        "name = doc[1]\n",
        "name"
      ],
      "metadata": {
        "colab": {
          "base_uri": "https://localhost:8080/",
          "height": 0
        },
        "id": "6EcsxcQE0WIT",
        "outputId": "669db025-826b-454f-b061-06efc1ba20fb"
      },
      "execution_count": 33,
      "outputs": [
        {
          "output_type": "execute_result",
          "data": {
            "text/plain": [
              "STRANGE"
            ]
          },
          "metadata": {},
          "execution_count": 33
        }
      ]
    },
    {
      "cell_type": "code",
      "source": [
        "name.is_upper"
      ],
      "metadata": {
        "colab": {
          "base_uri": "https://localhost:8080/",
          "height": 0
        },
        "id": "ae_DTENH0Ywz",
        "outputId": "1ed14116-7d88-45e7-91a7-d92ebe3ed616"
      },
      "execution_count": 35,
      "outputs": [
        {
          "output_type": "execute_result",
          "data": {
            "text/plain": [
              "True"
            ]
          },
          "metadata": {},
          "execution_count": 35
        }
      ]
    },
    {
      "cell_type": "code",
      "source": [
        "nlp.pipe_names"
      ],
      "metadata": {
        "colab": {
          "base_uri": "https://localhost:8080/"
        },
        "id": "eSdy_lBa0x9U",
        "outputId": "e9767ab0-9acd-43ba-da81-8a1dd92edfc8"
      },
      "execution_count": 53,
      "outputs": [
        {
          "output_type": "execute_result",
          "data": {
            "text/plain": [
              "['sentencizer']"
            ]
          },
          "metadata": {},
          "execution_count": 53
        }
      ]
    },
    {
      "cell_type": "code",
      "source": [
        "# nlp.add_pipe('sentencizer')\n",
        "# nlp.pipe_name"
      ],
      "metadata": {
        "id": "3iGHu4b53ndp"
      },
      "execution_count": 56,
      "outputs": []
    },
    {
      "cell_type": "code",
      "source": [
        "doc2 = nlp(\"Dr. STRANGE is such a brillant fighter. He needs to be in Avenger. People will seriously love it! He buys an orange of 4$ from the market\")\n",
        "for sentence in doc2.sents:\n",
        "  print(sentence)"
      ],
      "metadata": {
        "colab": {
          "base_uri": "https://localhost:8080/"
        },
        "id": "6BCMnWeC1zHM",
        "outputId": "7f1ba896-acbf-4be4-a201-d7d091ba6f5b"
      },
      "execution_count": 57,
      "outputs": [
        {
          "output_type": "stream",
          "name": "stdout",
          "text": [
            "Dr. STRANGE is such a brillant fighter.\n",
            "He needs to be in Avenger.\n",
            "People will seriously love it!\n",
            "He buys an orange of 4$ from the market\n"
          ]
        }
      ]
    },
    {
      "cell_type": "markdown",
      "source": [
        "## **Extracting email from the txt file**"
      ],
      "metadata": {
        "id": "s8IUNHQNGwE2"
      }
    },
    {
      "cell_type": "code",
      "source": [
        "with open('/content/Studentportal.txt') as f:\n",
        "  text = f.readlines()\n",
        "text"
      ],
      "metadata": {
        "colab": {
          "base_uri": "https://localhost:8080/"
        },
        "id": "ZHN7GGd94pgG",
        "outputId": "7ddde4c0-a7bc-44a5-d63a-bbedc178f172"
      },
      "execution_count": 64,
      "outputs": [
        {
          "output_type": "execute_result",
          "data": {
            "text/plain": [
              "['Student Portal\\n',\n",
              " '===============\\n',\n",
              " '\\n',\n",
              " 'Name       Birthday       Email \\n',\n",
              " 'Atharva    2 June, 2003   desaiatharva50@gmail.com\\n',\n",
              " 'Darsh      25 June, 2003  darshjain45@gmail.com\\n',\n",
              " 'Raj        13 Feb, 2003   rajghag897@gmail.com\\n',\n",
              " 'Gaurang    15 Sept, 2003  bhoglegaurang101@gmail.com']"
            ]
          },
          "metadata": {},
          "execution_count": 64
        }
      ]
    },
    {
      "cell_type": "code",
      "source": [
        "text = \" \".join(text)\n",
        "text"
      ],
      "metadata": {
        "colab": {
          "base_uri": "https://localhost:8080/",
          "height": 54
        },
        "id": "WuZ8LZPrD25Y",
        "outputId": "c9ac4979-d948-4e35-ec13-e8e75c9ee2dd"
      },
      "execution_count": 65,
      "outputs": [
        {
          "output_type": "execute_result",
          "data": {
            "text/plain": [
              "'Student Portal\\n ===============\\n \\n Name       Birthday       Email \\n Atharva    2 June, 2003   desaiatharva50@gmail.com\\n Darsh      25 June, 2003  darshjain45@gmail.com\\n Raj        13 Feb, 2003   rajghag897@gmail.com\\n Gaurang    15 Sept, 2003  bhoglegaurang101@gmail.com'"
            ],
            "application/vnd.google.colaboratory.intrinsic+json": {
              "type": "string"
            }
          },
          "metadata": {},
          "execution_count": 65
        }
      ]
    },
    {
      "cell_type": "code",
      "source": [
        "email = []\n",
        "nlp = spacy.load('en_core_web_sm')\n",
        "doc3 = nlp(text)\n",
        "for word in doc3:\n",
        "  if(word.like_email):\n",
        "    email.append(word)\n",
        "\n",
        "email"
      ],
      "metadata": {
        "colab": {
          "base_uri": "https://localhost:8080/"
        },
        "id": "TRd95KakE1Za",
        "outputId": "86a2200a-f9fb-4914-88cc-57ba8f3db5c4"
      },
      "execution_count": 66,
      "outputs": [
        {
          "output_type": "execute_result",
          "data": {
            "text/plain": [
              "[desaiatharva50@gmail.com,\n",
              " darshjain45@gmail.com,\n",
              " rajghag897@gmail.com,\n",
              " bhoglegaurang101@gmail.com]"
            ]
          },
          "metadata": {},
          "execution_count": 66
        }
      ]
    },
    {
      "cell_type": "markdown",
      "source": [
        "## **Support in other language**"
      ],
      "metadata": {
        "id": "qDjXAxM9HBH9"
      }
    },
    {
      "cell_type": "code",
      "source": [
        "# nlp  = spacy.blank('hi')\n",
        "hin = nlp('यह बहुत अच्छा लग रहा था. मैं इससे अपनी आँखें नहीं हटा पा रहा हूँ')\n",
        "for word in hin:\n",
        "  print(word)"
      ],
      "metadata": {
        "colab": {
          "base_uri": "https://localhost:8080/"
        },
        "id": "RdnswTyNFWKe",
        "outputId": "2f72595f-a5ff-4a2d-d12e-f9a4835518ab"
      },
      "execution_count": 72,
      "outputs": [
        {
          "output_type": "stream",
          "name": "stdout",
          "text": [
            "यह\n",
            "बहुत\n",
            "अच्छा\n",
            "लग\n",
            "रहा\n",
            "था\n",
            ".\n",
            "मैं\n",
            "इससे\n",
            "अपनी\n",
            "आँखें\n",
            "नहीं\n",
            "हटा\n",
            "पा\n",
            "रहा\n",
            "हूँ\n"
          ]
        }
      ]
    },
    {
      "cell_type": "code",
      "source": [
        "hin[0].is_title"
      ],
      "metadata": {
        "colab": {
          "base_uri": "https://localhost:8080/"
        },
        "id": "4ct3iv0yN9ve",
        "outputId": "634c60d3-b040-4481-a96d-7db92d9253b7"
      },
      "execution_count": 73,
      "outputs": [
        {
          "output_type": "execute_result",
          "data": {
            "text/plain": [
              "False"
            ]
          },
          "metadata": {},
          "execution_count": 73
        }
      ]
    },
    {
      "cell_type": "markdown",
      "source": [
        "## **Tasks**"
      ],
      "metadata": {
        "id": "CTSjX8_iRBUn"
      }
    },
    {
      "cell_type": "code",
      "source": [
        "text='''\n",
        "Look for data to help you address the question. Governments are good\n",
        "sources because data from public research is often freely available. Good\n",
        "places to start include http://www.data.gov/, and http://www.science.\n",
        "gov/, and in the United Kingdom, http://data.gov.uk/.\n",
        "Two of my favorite data sets are the General Social Survey at http://www3.norc.org/gss+website/,\n",
        "and the European Social Survey at http://www.europeansocialsurvey.org/.\n",
        "'''\n",
        "link = []\n",
        "exlink = nlp(text)\n",
        "for word in exlink:\n",
        "  if(word.like_url):\n",
        "    link.append(word)\n",
        "\n",
        "link"
      ],
      "metadata": {
        "colab": {
          "base_uri": "https://localhost:8080/"
        },
        "id": "6jHSjCHePC73",
        "outputId": "b431a521-b2dd-4733-86ce-0491ddbfd58c"
      },
      "execution_count": 74,
      "outputs": [
        {
          "output_type": "execute_result",
          "data": {
            "text/plain": [
              "[http://www.data.gov/,\n",
              " http://www.science,\n",
              " http://data.gov.uk/.,\n",
              " http://www3.norc.org/gss+website/,\n",
              " http://www.europeansocialsurvey.org/.]"
            ]
          },
          "metadata": {},
          "execution_count": 74
        }
      ]
    },
    {
      "cell_type": "code",
      "source": [
        "transactions = \"Tony gave two $ to Peter, Bruce gave 500 € to Steve\"\n",
        "amount = []\n",
        "trans = nlp(transactions)\n",
        "for word in trans:\n",
        "  if(word.is_currency):\n",
        "    prev = word.i - 1\n",
        "    money = trans[prev:prev+2]\n",
        "    amount.append(money)\n",
        "amount"
      ],
      "metadata": {
        "colab": {
          "base_uri": "https://localhost:8080/"
        },
        "id": "-XhEvCfLRGkR",
        "outputId": "8bf97a5e-c776-4b67-be0c-838cbc24518a"
      },
      "execution_count": 80,
      "outputs": [
        {
          "output_type": "execute_result",
          "data": {
            "text/plain": [
              "[two $, 500 €]"
            ]
          },
          "metadata": {},
          "execution_count": 80
        }
      ]
    }
  ]
}