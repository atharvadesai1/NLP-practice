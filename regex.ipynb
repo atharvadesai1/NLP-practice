{
  "nbformat": 4,
  "nbformat_minor": 0,
  "metadata": {
    "colab": {
      "provenance": [],
      "authorship_tag": "ABX9TyOcCYB7ljXHr3FJPdnr/V/i",
      "include_colab_link": true
    },
    "kernelspec": {
      "name": "python3",
      "display_name": "Python 3"
    },
    "language_info": {
      "name": "python"
    }
  },
  "cells": [
    {
      "cell_type": "markdown",
      "metadata": {
        "id": "view-in-github",
        "colab_type": "text"
      },
      "source": [
        "<a href=\"https://colab.research.google.com/github/atharvadesai1/NLP-practice/blob/main/regex.ipynb\" target=\"_parent\"><img src=\"https://colab.research.google.com/assets/colab-badge.svg\" alt=\"Open In Colab\"/></a>"
      ]
    },
    {
      "cell_type": "code",
      "execution_count": 9,
      "metadata": {
        "colab": {
          "base_uri": "https://localhost:8080/"
        },
        "id": "7MXxwIYAvN_u",
        "outputId": "6842ec67-6a32-42f5-90f6-60ae0d656296"
      },
      "outputs": [
        {
          "output_type": "execute_result",
          "data": {
            "text/plain": [
              "['9876543212', '8976503214', '7654321119']"
            ]
          },
          "metadata": {},
          "execution_count": 9
        }
      ],
      "source": [
        "import re\n",
        "string = '''\n",
        "            Hello my phone no. is 9876543212.\n",
        "            My phone no. so its 8976503214\n",
        "            Telephone no. 7654321119'''\n",
        "pattern = \"(\\d{10})\"\n",
        "matchn = re.findall(pattern,string)\n",
        "matchn"
      ]
    }
  ]
}