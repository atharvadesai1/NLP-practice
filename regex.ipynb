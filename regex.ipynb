{
  "nbformat": 4,
  "nbformat_minor": 0,
  "metadata": {
    "colab": {
      "provenance": [],
      "authorship_tag": "ABX9TyM/UeBDPXK0bq0srV6iPbgS",
      "include_colab_link": true
    },
    "kernelspec": {
      "name": "python3",
      "display_name": "Python 3"
    },
    "language_info": {
      "name": "python"
    }
  },
  "cells": [
    {
      "cell_type": "markdown",
      "metadata": {
        "id": "view-in-github",
        "colab_type": "text"
      },
      "source": [
        "<a href=\"https://colab.research.google.com/github/atharvadesai1/NLP-practice/blob/main/regex.ipynb\" target=\"_parent\"><img src=\"https://colab.research.google.com/assets/colab-badge.svg\" alt=\"Open In Colab\"/></a>"
      ]
    },
    {
      "cell_type": "code",
      "execution_count": 18,
      "metadata": {
        "colab": {
          "base_uri": "https://localhost:8080/"
        },
        "id": "7MXxwIYAvN_u",
        "outputId": "045a5d8a-a9dc-48a3-e7fb-0ece934b1362"
      },
      "outputs": [
        {
          "output_type": "stream",
          "name": "stdout",
          "text": [
            "Number extracted : ['9876543212', '8976503214', '7654321119']\n",
            "Email extracted :['desaiatharva50@gmail.com', 'dkseRR45@xyz.com', 'sadguru@hotmail.com']\n",
            "Number and email extracted :['9876543212', '8976503214', '7654321119', 'desaiatharva50@gmail.com', 'dkseRR45@xyz.com', 'sadguru@hotmail.com']\n"
          ]
        }
      ],
      "source": [
        "# Extracting the contact number and email id from the text\n",
        "\n",
        "import re\n",
        "number = '''\n",
        "            Hello my phone no. is 9876543212.\n",
        "            My phone no. so its 8976503214\n",
        "            Telephone no. 7654321119'''\n",
        "pattern = \"(\\d{10})\"\n",
        "matchn = re.findall(pattern,number)\n",
        "print(\"Number extracted :\",matchn)\n",
        "email  = ''' My email id is desaiatharva50@gmail.com\n",
        "             Mine email is dkseRR45@xyz.com\n",
        "             please note my email sadguru@hotmail.com'''\n",
        "\n",
        "pattern = \"[a-zA-Z0-9]+@[a-z]+.com\"\n",
        "matche = re.findall(pattern, email)\n",
        "print(f\"Email extracted :{matche}\")\n",
        "\n",
        "numemail = number + \" \" + email\n",
        "pattern = \"\\d{10}|[a-zA-Z0-9]+@[a-z]+.com\"\n",
        "matchen = re.findall(pattern, numemail)\n",
        "print(f\"Number and email extracted :{matchen}\")"
      ]
    },
    {
      "cell_type": "code",
      "source": [
        "# Extracting age from wikipedia column of a celebrity\n",
        "\n",
        "celeb = ''' Personal information\n",
        "Full name  Sachin Ramesh Tendulkar\n",
        "Born  24 April 1973 (age 50) Bombay, Maharashtra, India\n",
        "(now Mumbai, India)\n",
        "Nickname  Little MasterMaster Blaster\n",
        "Height  165 cm (5 ft 5 in)\n",
        "Batting  Right-handed\n",
        "Bowling  Right-arm leg break Right-arm off break\n",
        "Role  Batter\n",
        "Relations Ramesh Tendulkar (father)\n",
        "Arjun Tendulkar (son)\n",
        "Website\n",
        "sachintendulkar.com '''\n",
        "\n",
        "pattern = \"\\(age ([0-9]+)\\)\"\n",
        "matche = re.findall(pattern, celeb)\n",
        "print(f\"Age: {matche[0]}\")"
      ],
      "metadata": {
        "colab": {
          "base_uri": "https://localhost:8080/"
        },
        "id": "0bHSgNhxEMlD",
        "outputId": "edecbcba-efb1-4d1c-eea6-0c18482cb9b2"
      },
      "execution_count": 20,
      "outputs": [
        {
          "output_type": "stream",
          "name": "stdout",
          "text": [
            "Age: 50\n"
          ]
        }
      ]
    }
  ]
}