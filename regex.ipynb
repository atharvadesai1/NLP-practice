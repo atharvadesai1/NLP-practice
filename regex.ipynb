{
  "nbformat": 4,
  "nbformat_minor": 0,
  "metadata": {
    "colab": {
      "provenance": [],
      "authorship_tag": "ABX9TyObJ7PzKI1sGL54y71bJ+GW",
      "include_colab_link": true
    },
    "kernelspec": {
      "name": "python3",
      "display_name": "Python 3"
    },
    "language_info": {
      "name": "python"
    }
  },
  "cells": [
    {
      "cell_type": "markdown",
      "metadata": {
        "id": "view-in-github",
        "colab_type": "text"
      },
      "source": [
        "<a href=\"https://colab.research.google.com/github/atharvadesai1/NLP-practice/blob/main/regex.ipynb\" target=\"_parent\"><img src=\"https://colab.research.google.com/assets/colab-badge.svg\" alt=\"Open In Colab\"/></a>"
      ]
    },
    {
      "cell_type": "code",
      "execution_count": 1,
      "metadata": {
        "colab": {
          "base_uri": "https://localhost:8080/"
        },
        "id": "7MXxwIYAvN_u",
        "outputId": "d0756ab7-41ae-4f78-90ff-01605195b993"
      },
      "outputs": [
        {
          "output_type": "stream",
          "name": "stdout",
          "text": [
            "Number extracted : ['9876543212', '8976503214', '7654321119']\n",
            "Email extracted :['desaiatharva50@gmail.com', 'dkseRR45@xyz.com', 'sadguru@hotmail.com']\n",
            "Number and email extracted :['9876543212', '8976503214', '7654321119', 'desaiatharva50@gmail.com', 'dkseRR45@xyz.com', 'sadguru@hotmail.com']\n"
          ]
        }
      ],
      "source": [
        "# Extracting the contact number and email id from the text\n",
        "\n",
        "import re\n",
        "number = '''\n",
        "            Hello my phone no. is 9876543212.\n",
        "            My phone no. so its 8976503214\n",
        "            Telephone no. 7654321119'''\n",
        "pattern = \"(\\d{10})\"\n",
        "matchn = re.findall(pattern,number)\n",
        "print(\"Number extracted :\",matchn)\n",
        "email  = ''' My email id is desaiatharva50@gmail.com\n",
        "             Mine email is dkseRR45@xyz.com\n",
        "             please note my email sadguru@hotmail.com'''\n",
        "\n",
        "pattern = \"[a-zA-Z0-9]+@[a-z]+.com\"\n",
        "matche = re.findall(pattern, email)\n",
        "print(f\"Email extracted :{matche}\")\n",
        "\n",
        "numemail = number + \" \" + email\n",
        "pattern = \"\\d{10}|[a-zA-Z0-9]+@[a-z]+.com\"\n",
        "matchen = re.findall(pattern, numemail)\n",
        "print(f\"Number and email extracted :{matchen}\")"
      ]
    },
    {
      "cell_type": "code",
      "source": [
        "# Extracting age from wikipedia column of a celebrity\n",
        "\n",
        "celeb = ''' Personal information\n",
        "Born\t5 November 1988 (age 34)\n",
        "Delhi, India\n",
        "Nickname\tCheeku,[1] King[2]\n",
        "Height\t5 ft 9 in (175 cm)\n",
        "Batting\tRight-handed\n",
        "Bowling\tRight-arm medium\n",
        "Role\tTop-order batter\n",
        "Relations\tAnushka Sharma (wife) '''\n",
        "\n",
        "age = \"\\(age ([0-9]+)\\)\"\n",
        "matche = re.findall(age, celeb)\n",
        "print(f\"Age: {matche[0]}\")\n",
        "\n",
        "birth = 'Born\\s+(\\d{1,2})\\s+([A-Za-z]+)\\s+(\\d{4})'\n",
        "height = 'Height\\s+(.*)'\n",
        "match1 = re.findall(birth,celeb)\n",
        "match2= re.findall(height,celeb)\n",
        "birth_full = match1[0][0] + \" \" + match1[0][1] + \" \" + match1[0][2]\n",
        "print(f\"Birthday full: {birth_full}\")\n",
        "print(f\"Birth Date: {match1[0][0]}\")\n",
        "print(f\"Birth Month: {match1[0][1]}\")\n",
        "print(f\"Birth Year: {match1[0][2]}\")\n",
        "print(f\"Height: {match2[0]}\")"
      ],
      "metadata": {
        "colab": {
          "base_uri": "https://localhost:8080/"
        },
        "id": "0bHSgNhxEMlD",
        "outputId": "f7853e43-bed6-4fa3-b351-d15bb524d8f1"
      },
      "execution_count": null,
      "outputs": [
        {
          "output_type": "stream",
          "name": "stdout",
          "text": [
            "Age: 34\n",
            "Birthday full: 5 November 1988\n",
            "Birth Date: 5\n",
            "Birth Month: November\n",
            "Birth Year: 1988\n",
            "Height: 5 ft 9 in (175 cm)\n"
          ]
        }
      ]
    },
    {
      "cell_type": "code",
      "source": [
        "order = '''My order no. is 34567\n",
        "          Order No: #234955464\n",
        "          my order number is 55669746\n",
        "          my phone number is 54583238'''\n",
        "\n",
        "pattern = 'order\\s+[^\\d]*(\\d*)'\n",
        "matchit = re.findall(pattern,order,flags=re.IGNORECASE)\n",
        "matchit"
      ],
      "metadata": {
        "colab": {
          "base_uri": "https://localhost:8080/"
        },
        "id": "Qz6ehReVz0KB",
        "outputId": "f86ff9f8-369b-470c-ecd7-e8673f3adf9b"
      },
      "execution_count": null,
      "outputs": [
        {
          "output_type": "execute_result",
          "data": {
            "text/plain": [
              "['34567', '234955464', '55669746']"
            ]
          },
          "metadata": {},
          "execution_count": 37
        }
      ]
    },
    {
      "cell_type": "code",
      "source": [
        "note = '''\n",
        "Note1: Introduction to Python\n",
        "Python is a versatile programming language known for its readability and ease of use.\n",
        "It has a large and active community, making it a popular choice for beginners and experienced developers alike.\n",
        "\n",
        "Note2: Data Structures in C++\n",
        "C++ is a powerful programming language, especially when it comes to working with data structures.\n",
        "It provides a wide range of built-in data structures, such as arrays, linked lists, and queues, making it suitable for various applications.\n",
        "\n",
        "Note3: Web Development with HTML and CSS\n",
        "HTML and CSS are fundamental technologies for web development.\n",
        "HTML is used to structure content on the web, while CSS is used for styling and layout.\n",
        "Together, they form the backbone of modern web design.\n",
        "\n",
        "Note4: Machine Learning Basics\n",
        "Machine learning is a branch of artificial intelligence that focuses on developing algorithms that allow computers to learn from data.\n",
        "It has applications in various fields, including image recognition, natural language processing, and predictive analytics.\n",
        "\n",
        "Note5: Cybersecurity Best Practices\n",
        "Ensuring the security of digital systems is crucial in today's interconnected world.\n",
        "Cybersecurity best practices involve measures such as using strong passwords, keeping software up to date,\n",
        "and implementing encryption to protect sensitive information.\n",
        "'''\n",
        "\n",
        "pattern = 'Note\\d:\\s(.*)'\n",
        "subject = re.findall(pattern,note)\n",
        "print(subject)"
      ],
      "metadata": {
        "id": "CthV9l1CBdH7",
        "colab": {
          "base_uri": "https://localhost:8080/"
        },
        "outputId": "d2a02ca3-3648-460d-f929-92d2e27281ec"
      },
      "execution_count": 3,
      "outputs": [
        {
          "output_type": "stream",
          "name": "stdout",
          "text": [
            "['Introduction to Python', 'Data Structures in C++', 'Web Development with HTML and CSS', 'Machine Learning Basics', 'Cybersecurity Best Practices']\n"
          ]
        }
      ]
    },
    {
      "cell_type": "code",
      "source": [
        "text = '''\n",
        "Our conference center has several rooms available for events.\n",
        "The keynote speech will be held in Room no.101, and the workshop sessions will take place in Rooms 201 and 202.\n",
        "Additionally, there is a breakout room, Room 301, where smaller discussions can be held.\n",
        "Please make sure to check the room numbers 703 on the schedule for each session.\n",
        "I orderes the pizza at 11 am having the order number 10229\n",
        "'''\n",
        "\n",
        "pattern = '[\\s.]+(\\d{3,4})+[\\s.,]'\n",
        "room_num = re.findall(pattern,text)\n",
        "print(room_num)"
      ],
      "metadata": {
        "colab": {
          "base_uri": "https://localhost:8080/"
        },
        "id": "KVt2911N1pkM",
        "outputId": "fd0710ee-bd52-45b7-93d3-ab50f138a44b"
      },
      "execution_count": 6,
      "outputs": [
        {
          "output_type": "stream",
          "name": "stdout",
          "text": [
            "['101', '201', '202', '301', '703']\n"
          ]
        }
      ]
    }
  ]
}