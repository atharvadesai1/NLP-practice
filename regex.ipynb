{
  "nbformat": 4,
  "nbformat_minor": 0,
  "metadata": {
    "colab": {
      "provenance": [],
      "authorship_tag": "ABX9TyO/nyoF24Xc/IqzprZgdZVn",
      "include_colab_link": true
    },
    "kernelspec": {
      "name": "python3",
      "display_name": "Python 3"
    },
    "language_info": {
      "name": "python"
    }
  },
  "cells": [
    {
      "cell_type": "markdown",
      "metadata": {
        "id": "view-in-github",
        "colab_type": "text"
      },
      "source": [
        "<a href=\"https://colab.research.google.com/github/atharvadesai1/NLP-practice/blob/main/regex.ipynb\" target=\"_parent\"><img src=\"https://colab.research.google.com/assets/colab-badge.svg\" alt=\"Open In Colab\"/></a>"
      ]
    },
    {
      "cell_type": "code",
      "execution_count": 18,
      "metadata": {
        "colab": {
          "base_uri": "https://localhost:8080/"
        },
        "id": "7MXxwIYAvN_u",
        "outputId": "045a5d8a-a9dc-48a3-e7fb-0ece934b1362"
      },
      "outputs": [
        {
          "output_type": "stream",
          "name": "stdout",
          "text": [
            "Number extracted : ['9876543212', '8976503214', '7654321119']\n",
            "Email extracted :['desaiatharva50@gmail.com', 'dkseRR45@xyz.com', 'sadguru@hotmail.com']\n",
            "Number and email extracted :['9876543212', '8976503214', '7654321119', 'desaiatharva50@gmail.com', 'dkseRR45@xyz.com', 'sadguru@hotmail.com']\n"
          ]
        }
      ],
      "source": [
        "# Extracting the contact number and email id from the text\n",
        "\n",
        "import re\n",
        "number = '''\n",
        "            Hello my phone no. is 9876543212.\n",
        "            My phone no. so its 8976503214\n",
        "            Telephone no. 7654321119'''\n",
        "pattern = \"(\\d{10})\"\n",
        "matchn = re.findall(pattern,number)\n",
        "print(\"Number extracted :\",matchn)\n",
        "email  = ''' My email id is desaiatharva50@gmail.com\n",
        "             Mine email is dkseRR45@xyz.com\n",
        "             please note my email sadguru@hotmail.com'''\n",
        "\n",
        "pattern = \"[a-zA-Z0-9]+@[a-z]+.com\"\n",
        "matche = re.findall(pattern, email)\n",
        "print(f\"Email extracted :{matche}\")\n",
        "\n",
        "numemail = number + \" \" + email\n",
        "pattern = \"\\d{10}|[a-zA-Z0-9]+@[a-z]+.com\"\n",
        "matchen = re.findall(pattern, numemail)\n",
        "print(f\"Number and email extracted :{matchen}\")"
      ]
    },
    {
      "cell_type": "code",
      "source": [
        "# Extracting age from wikipedia column of a celebrity\n",
        "\n",
        "celeb = ''' Personal information\n",
        "Full name  Sachin Ramesh Tendulkar\n",
        "Born  24 April 1973 (age 50) Bombay, Maharashtra, India\n",
        "(now Mumbai, India)\n",
        "Nickname  Little MasterMaster Blaster\n",
        "Height  165 cm (5 ft 5 in)\n",
        "Batting  Right-handed\n",
        "Bowling  Right-arm leg break Right-arm off break\n",
        "Role  Batter\n",
        "Relations Ramesh Tendulkar (father)\n",
        "Arjun Tendulkar (son)\n",
        "Website\n",
        "sachintendulkar.com '''\n",
        "\n",
        "age = \"\\(age ([0-9]+)\\)\"\n",
        "matche = re.findall(age, celeb)\n",
        "print(f\"Age: {matche[0]}\")\n",
        "\n",
        "birth = 'Born\\s+(\\d{1,2})\\s+([A-Za-z]+)\\s+(\\d{4})'\n",
        "height = 'Height\\s+(.*)'\n",
        "match1 = re.findall(birth,celeb)\n",
        "match2= re.findall(height,celeb)\n",
        "birth_full = match1[0][0] + \" \" + match1[0][1] + \" \" + match1[0][2]\n",
        "print(f\"Birthday full: {birth_full}\")\n",
        "print(f\"Birth Date: {match1[0][0]}\")\n",
        "print(f\"Birth Month: {match1[0][1]}\")\n",
        "print(f\"Birth Year: {match1[0][2]}\")\n",
        "print(f\"Height: {match2[0]}\")"
      ],
      "metadata": {
        "colab": {
          "base_uri": "https://localhost:8080/"
        },
        "id": "0bHSgNhxEMlD",
        "outputId": "e8f82919-b6d2-4475-fb16-14698375e341"
      },
      "execution_count": 33,
      "outputs": [
        {
          "output_type": "stream",
          "name": "stdout",
          "text": [
            "Age: 50\n",
            "Birthday full: 24 April 1973\n",
            "Birth Date: 24\n",
            "Birth Month: April\n",
            "Birth Year: 1973\n",
            "Height: 165 cm (5 ft 5 in)\n"
          ]
        }
      ]
    },
    {
      "cell_type": "code",
      "source": [
        "s = ('24', 'April', '1973')\n",
        "peace = s[0] + \" \" + s[1] + \" \" + s[2]\n",
        "peace[:]"
      ],
      "metadata": {
        "colab": {
          "base_uri": "https://localhost:8080/",
          "height": 36
        },
        "id": "Qz6ehReVz0KB",
        "outputId": "3cbf2e99-e878-4eaa-fe93-1a2bf0c1a8b1"
      },
      "execution_count": 29,
      "outputs": [
        {
          "output_type": "execute_result",
          "data": {
            "text/plain": [
              "'24 April 1973'"
            ],
            "application/vnd.google.colaboratory.intrinsic+json": {
              "type": "string"
            }
          },
          "metadata": {},
          "execution_count": 29
        }
      ]
    }
  ]
}