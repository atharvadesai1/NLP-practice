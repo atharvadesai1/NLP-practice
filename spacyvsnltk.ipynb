{
  "nbformat": 4,
  "nbformat_minor": 0,
  "metadata": {
    "colab": {
      "provenance": [],
      "authorship_tag": "ABX9TyNZbNN4V1omkOkmYdIPsXbj",
      "include_colab_link": true
    },
    "kernelspec": {
      "name": "python3",
      "display_name": "Python 3"
    },
    "language_info": {
      "name": "python"
    }
  },
  "cells": [
    {
      "cell_type": "markdown",
      "metadata": {
        "id": "view-in-github",
        "colab_type": "text"
      },
      "source": [
        "<a href=\"https://colab.research.google.com/github/atharvadesai1/NLP-practice/blob/main/spacyvsnltk.ipynb\" target=\"_parent\"><img src=\"https://colab.research.google.com/assets/colab-badge.svg\" alt=\"Open In Colab\"/></a>"
      ]
    },
    {
      "cell_type": "code",
      "execution_count": 1,
      "metadata": {
        "id": "-gLHPDsVplKk"
      },
      "outputs": [],
      "source": [
        "import spacy"
      ]
    },
    {
      "cell_type": "code",
      "source": [
        "nlp = spacy.load('en_core_web_sm')\n",
        "doc = nlp(\"Dr. Strange is such a brillant fighter. He needs to be in Avenger. People will seriously love it\")\n",
        "for sentence in doc.sents:\n",
        "  print(sentence)"
      ],
      "metadata": {
        "colab": {
          "base_uri": "https://localhost:8080/"
        },
        "id": "WJL66RsPppNM",
        "outputId": "711771e4-93c9-41df-e334-eec026c49bc6"
      },
      "execution_count": 4,
      "outputs": [
        {
          "output_type": "stream",
          "name": "stdout",
          "text": [
            "Dr. Strange is such a brillant fighter.\n",
            "He needs to be in Avenger.\n",
            "People will seriously love it\n"
          ]
        }
      ]
    },
    {
      "cell_type": "code",
      "source": [
        "for sentence in doc.sents:\n",
        "  for word in sentence:\n",
        "    print(word)"
      ],
      "metadata": {
        "colab": {
          "base_uri": "https://localhost:8080/"
        },
        "id": "0HjdFLTNqvSl",
        "outputId": "3be6ca5a-8122-4a82-81ec-615acc1f60e9"
      },
      "execution_count": 7,
      "outputs": [
        {
          "output_type": "stream",
          "name": "stdout",
          "text": [
            "Dr.\n",
            "Strange\n",
            "is\n",
            "such\n",
            "a\n",
            "brillant\n",
            "fighter\n",
            ".\n",
            "He\n",
            "needs\n",
            "to\n",
            "be\n",
            "in\n",
            "Avenger\n",
            ".\n",
            "People\n",
            "will\n",
            "seriously\n",
            "love\n",
            "it\n"
          ]
        }
      ]
    },
    {
      "cell_type": "code",
      "source": [
        "import nltk\n",
        "nltk.download('punkt')"
      ],
      "metadata": {
        "colab": {
          "base_uri": "https://localhost:8080/"
        },
        "id": "Ojh0qxfqrMqZ",
        "outputId": "1016b279-475b-49ee-9eb9-6dcadaccae70"
      },
      "execution_count": 13,
      "outputs": [
        {
          "output_type": "stream",
          "name": "stderr",
          "text": [
            "[nltk_data] Downloading package punkt to /root/nltk_data...\n",
            "[nltk_data]   Unzipping tokenizers/punkt.zip.\n"
          ]
        },
        {
          "output_type": "execute_result",
          "data": {
            "text/plain": [
              "True"
            ]
          },
          "metadata": {},
          "execution_count": 13
        }
      ]
    },
    {
      "cell_type": "code",
      "source": [
        "from nltk.tokenize import sent_tokenize\n",
        "\n",
        "sent_tokenize(\"Dr. Strange is such a brillant fighter. He needs to be in Avenger. People will seriously love it\")"
      ],
      "metadata": {
        "colab": {
          "base_uri": "https://localhost:8080/"
        },
        "id": "wefzt_6FsFlp",
        "outputId": "972a6fd6-d8e1-489b-bd88-9d07c0a19470"
      },
      "execution_count": 14,
      "outputs": [
        {
          "output_type": "execute_result",
          "data": {
            "text/plain": [
              "['Dr.',\n",
              " 'Strange is such a brillant fighter.',\n",
              " 'He needs to be in Avenger.',\n",
              " 'People will seriously love it']"
            ]
          },
          "metadata": {},
          "execution_count": 14
        }
      ]
    },
    {
      "cell_type": "code",
      "source": [
        "from nltk.tokenize import word_tokenize\n",
        "word_tokenize(\"Dr. Strange is such a brillant fighter. He needs to be in Avenger. People will seriously love it\")"
      ],
      "metadata": {
        "colab": {
          "base_uri": "https://localhost:8080/"
        },
        "id": "DyaA4E1SsGgM",
        "outputId": "54e9bc16-ae40-4429-8832-8c245ad29788"
      },
      "execution_count": 15,
      "outputs": [
        {
          "output_type": "execute_result",
          "data": {
            "text/plain": [
              "['Dr',\n",
              " '.',\n",
              " 'Strange',\n",
              " 'is',\n",
              " 'such',\n",
              " 'a',\n",
              " 'brillant',\n",
              " 'fighter',\n",
              " '.',\n",
              " 'He',\n",
              " 'needs',\n",
              " 'to',\n",
              " 'be',\n",
              " 'in',\n",
              " 'Avenger',\n",
              " '.',\n",
              " 'People',\n",
              " 'will',\n",
              " 'seriously',\n",
              " 'love',\n",
              " 'it']"
            ]
          },
          "metadata": {},
          "execution_count": 15
        }
      ]
    }
  ]
}